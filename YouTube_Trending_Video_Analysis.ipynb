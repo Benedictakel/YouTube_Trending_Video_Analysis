{
  "nbformat": 4,
  "nbformat_minor": 0,
  "metadata": {
    "colab": {
      "provenance": [],
      "authorship_tag": "ABX9TyO4ORpCgrT7ANDUh1sH9gxt"
    },
    "kernelspec": {
      "name": "python3",
      "display_name": "Python 3"
    },
    "language_info": {
      "name": "python"
    }
  },
  "cells": [
    {
      "cell_type": "code",
      "execution_count": null,
      "metadata": {
        "id": "B9tf4wu8pI4j"
      },
      "outputs": [],
      "source": [
        "import pandas as pd\n",
        "import numpy as np\n",
        "import seaborn as sns\n",
        "import matplotlib.pyplot as plt\n",
        "import plotly.express as px\n",
        "\n",
        "from wordcloud import WordCloud\n"
      ]
    },
    {
      "cell_type": "code",
      "source": [
        "url = \"https://raw.githubusercontent.com/samayo/country-json/master/src/country-by-youtube-trending.csv\"\n",
        "df = pd.read_csv(\"https://raw.githubusercontent.com/CodeWithMaha/Youtube-Trending-Data-Analysis/main/USvideos.csv\")\n",
        "df.head()\n"
      ],
      "metadata": {
        "id": "Z9rjCw_4pQd2"
      },
      "execution_count": null,
      "outputs": []
    },
    {
      "cell_type": "code",
      "source": [
        "df.info()\n",
        "df.describe()\n",
        "df.columns\n",
        "\n",
        "df['category_id'].value_counts()\n"
      ],
      "metadata": {
        "id": "lMeqEZXxpT9O"
      },
      "execution_count": null,
      "outputs": []
    },
    {
      "cell_type": "code",
      "source": [
        "# Example mapping for US category_id (you can load full mapping from JSON if needed)\n",
        "category_map = {\n",
        "    1: \"Film & Animation\", 2: \"Autos & Vehicles\", 10: \"Music\", 15: \"Pets & Animals\",\n",
        "    17: \"Sports\", 20: \"Gaming\", 22: \"People & Blogs\", 23: \"Comedy\", 24: \"Entertainment\"\n",
        "}\n",
        "df['category'] = df['category_id'].map(category_map)\n",
        "\n",
        "plt.figure(figsize=(10,6))\n",
        "sns.countplot(data=df, y='category', order=df['category'].value_counts().index, palette=\"coolwarm\")\n",
        "plt.title(\"Trending Video Categories\")\n",
        "plt.xlabel(\"Count\")\n",
        "plt.ylabel(\"Category\")\n",
        "plt.show()\n"
      ],
      "metadata": {
        "id": "4xKvVgRXp3DU"
      },
      "execution_count": null,
      "outputs": []
    },
    {
      "cell_type": "code",
      "source": [
        "sns.scatterplot(data=df, x='views', y='likes', alpha=0.5)\n",
        "plt.title(\"Views vs Likes\")\n",
        "plt.xlabel(\"Views\")\n",
        "plt.ylabel(\"Likes\")\n",
        "plt.grid(True)\n",
        "plt.show()\n"
      ],
      "metadata": {
        "id": "HfQUwc5rp5ic"
      },
      "execution_count": null,
      "outputs": []
    },
    {
      "cell_type": "code",
      "source": [
        "all_titles = ' '.join(df['title'].dropna()).lower()\n",
        "\n",
        "wc = WordCloud(width=800, height=400, background_color='black').generate(all_titles)\n",
        "\n",
        "plt.figure(figsize=(12, 6))\n",
        "plt.imshow(wc, interpolation='bilinear')\n",
        "plt.axis('off')\n",
        "plt.title(\"Common Words in Trending Video Titles\")\n",
        "plt.show()\n"
      ],
      "metadata": {
        "id": "22muM8RVp8nI"
      },
      "execution_count": null,
      "outputs": []
    },
    {
      "cell_type": "code",
      "source": [
        "top_liked = df.sort_values('likes', ascending=False).head(10)[['title', 'likes', 'views']]\n",
        "top_liked\n"
      ],
      "metadata": {
        "id": "4fbMiQ-aqCxp"
      },
      "execution_count": null,
      "outputs": []
    },
    {
      "cell_type": "code",
      "source": [
        "df['trending_date'] = pd.to_datetime(df['trending_date'], format='%y.%d.%m')\n",
        "df['day_of_week'] = df['trending_date'].dt.day_name()\n",
        "\n",
        "sns.countplot(data=df, x='day_of_week', order=['Monday','Tuesday','Wednesday','Thursday','Friday','Saturday','Sunday'])\n",
        "plt.title(\"Trending Videos by Day of the Week\")\n",
        "plt.xticks(rotation=45)\n",
        "plt.show()\n"
      ],
      "metadata": {
        "id": "OH6HnCThqGIz"
      },
      "execution_count": null,
      "outputs": []
    }
  ]
}